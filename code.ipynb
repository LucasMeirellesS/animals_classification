{
 "cells": [
  {
   "cell_type": "markdown",
   "metadata": {},
   "source": [
    "Passos:\n",
    "\n",
    "1) Aprender como ler uma imagem (os pixels dela) e dar um plot na imagem \n",
    "2) Fazer um daset em pandas com os pixels das images (que serão a entrada, X) e a saída y o nome dos animais (ou coloca uma legenda pra cada animal). Por ex: cachorro - 1, girafa -2 ..."
   ]
  },
  {
   "cell_type": "code",
   "execution_count": 1,
   "metadata": {},
   "outputs": [
    {
     "name": "stdout",
     "output_type": "stream",
     "text": [
      "Lucas gosta da bunda da luiza sonsa\n"
     ]
    }
   ],
   "source": [
    "print('Lucas gosta da bunda da luiza sonsa')"
   ]
  },
  {
   "cell_type": "code",
   "execution_count": null,
   "metadata": {},
   "outputs": [],
   "source": []
  }
 ],
 "metadata": {
  "kernelspec": {
   "display_name": "Python 3",
   "language": "python",
   "name": "python3"
  },
  "language_info": {
   "codemirror_mode": {
    "name": "ipython",
    "version": 3
   },
   "file_extension": ".py",
   "mimetype": "text/x-python",
   "name": "python",
   "nbconvert_exporter": "python",
   "pygments_lexer": "ipython3",
   "version": "3.11.9"
  }
 },
 "nbformat": 4,
 "nbformat_minor": 2
}
